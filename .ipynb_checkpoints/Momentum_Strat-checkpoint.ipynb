{
 "cells": [
  {
   "cell_type": "markdown",
   "id": "07607c87-40d6-4b3c-9e37-0f9a5cb07af5",
   "metadata": {},
   "source": [
    "# Momentum Trading Strategy\n"
   ]
  },
  {
   "cell_type": "markdown",
   "id": "6c9e7512-2461-40a7-8563-52ddda1c35e6",
   "metadata": {},
   "source": [
    "Trend following strategy"
   ]
  },
  {
   "cell_type": "code",
   "execution_count": 17,
   "id": "36f8708d-0fb6-477e-abc6-a682e63b3754",
   "metadata": {},
   "outputs": [],
   "source": [
    "import numpy as np\n",
    "import pandas as pd\n",
    "import pandas_datareader as pdr\n",
    "import matplotlib.pyplot as plt\n",
    "import yfinance as yf"
   ]
  },
  {
   "cell_type": "markdown",
   "id": "91fb56b8-db31-4823-8bc9-b2c0267ba662",
   "metadata": {},
   "source": [
    "## Download data"
   ]
  },
  {
   "cell_type": "markdown",
   "id": "f022fe8f-266c-4a94-a84e-dd4eaf1b11b0",
   "metadata": {},
   "source": [
    "We're gonna sue yahoo finance api and look at the golf etf"
   ]
  },
  {
   "cell_type": "code",
   "execution_count": 30,
   "id": "b539e541-cba5-4dfc-9957-92a18460955e",
   "metadata": {},
   "outputs": [
    {
     "name": "stderr",
     "output_type": "stream",
     "text": [
      "[*********************100%***********************]  1 of 1 completed\n"
     ]
    },
    {
     "data": {
      "text/html": [
       "<div>\n",
       "<style scoped>\n",
       "    .dataframe tbody tr th:only-of-type {\n",
       "        vertical-align: middle;\n",
       "    }\n",
       "\n",
       "    .dataframe tbody tr th {\n",
       "        vertical-align: top;\n",
       "    }\n",
       "\n",
       "    .dataframe thead tr th {\n",
       "        text-align: left;\n",
       "    }\n",
       "\n",
       "    .dataframe thead tr:last-of-type th {\n",
       "        text-align: right;\n",
       "    }\n",
       "</style>\n",
       "<table border=\"1\" class=\"dataframe\">\n",
       "  <thead>\n",
       "    <tr>\n",
       "      <th>Price</th>\n",
       "      <th>Close</th>\n",
       "      <th>High</th>\n",
       "      <th>Low</th>\n",
       "      <th>Open</th>\n",
       "      <th>Volume</th>\n",
       "      <th>day</th>\n",
       "    </tr>\n",
       "    <tr>\n",
       "      <th>Ticker</th>\n",
       "      <th>GLD</th>\n",
       "      <th>GLD</th>\n",
       "      <th>GLD</th>\n",
       "      <th>GLD</th>\n",
       "      <th>GLD</th>\n",
       "      <th></th>\n",
       "    </tr>\n",
       "    <tr>\n",
       "      <th>Date</th>\n",
       "      <th></th>\n",
       "      <th></th>\n",
       "      <th></th>\n",
       "      <th></th>\n",
       "      <th></th>\n",
       "      <th></th>\n",
       "    </tr>\n",
       "  </thead>\n",
       "  <tbody>\n",
       "    <tr>\n",
       "      <th>2004-11-18</th>\n",
       "      <td>44.380001</td>\n",
       "      <td>44.490002</td>\n",
       "      <td>44.070000</td>\n",
       "      <td>44.430000</td>\n",
       "      <td>5992000</td>\n",
       "      <td>1</td>\n",
       "    </tr>\n",
       "    <tr>\n",
       "      <th>2004-11-19</th>\n",
       "      <td>44.779999</td>\n",
       "      <td>44.919998</td>\n",
       "      <td>44.470001</td>\n",
       "      <td>44.490002</td>\n",
       "      <td>11655300</td>\n",
       "      <td>2</td>\n",
       "    </tr>\n",
       "    <tr>\n",
       "      <th>2004-11-22</th>\n",
       "      <td>44.950001</td>\n",
       "      <td>44.970001</td>\n",
       "      <td>44.740002</td>\n",
       "      <td>44.750000</td>\n",
       "      <td>11996000</td>\n",
       "      <td>3</td>\n",
       "    </tr>\n",
       "    <tr>\n",
       "      <th>2004-11-23</th>\n",
       "      <td>44.750000</td>\n",
       "      <td>44.919998</td>\n",
       "      <td>44.720001</td>\n",
       "      <td>44.880001</td>\n",
       "      <td>3169200</td>\n",
       "      <td>4</td>\n",
       "    </tr>\n",
       "    <tr>\n",
       "      <th>2004-11-24</th>\n",
       "      <td>45.049999</td>\n",
       "      <td>45.049999</td>\n",
       "      <td>44.790001</td>\n",
       "      <td>44.930000</td>\n",
       "      <td>6105100</td>\n",
       "      <td>5</td>\n",
       "    </tr>\n",
       "  </tbody>\n",
       "</table>\n",
       "</div>"
      ],
      "text/plain": [
       "Price           Close       High        Low       Open    Volume day\n",
       "Ticker            GLD        GLD        GLD        GLD       GLD    \n",
       "Date                                                                \n",
       "2004-11-18  44.380001  44.490002  44.070000  44.430000   5992000   1\n",
       "2004-11-19  44.779999  44.919998  44.470001  44.490002  11655300   2\n",
       "2004-11-22  44.950001  44.970001  44.740002  44.750000  11996000   3\n",
       "2004-11-23  44.750000  44.919998  44.720001  44.880001   3169200   4\n",
       "2004-11-24  45.049999  45.049999  44.790001  44.930000   6105100   5"
      ]
     },
     "execution_count": 30,
     "metadata": {},
     "output_type": "execute_result"
    }
   ],
   "source": [
    "gld = yf.download(\"GLD\")\n",
    "day = np.arange(1, len(gld)+1)\n",
    "gld['day'] = day\n",
    "gld.head()"
   ]
  },
  {
   "cell_type": "code",
   "execution_count": null,
   "id": "6f012771-a8bb-4297-aa37-09e5f0d696bd",
   "metadata": {},
   "outputs": [],
   "source": []
  },
  {
   "cell_type": "code",
   "execution_count": null,
   "id": "2d2e3a64-5b02-48d4-9b8a-8611cefe902a",
   "metadata": {},
   "outputs": [],
   "source": []
  }
 ],
 "metadata": {
  "kernelspec": {
   "display_name": "Python 3 (ipykernel)",
   "language": "python",
   "name": "python3"
  },
  "language_info": {
   "codemirror_mode": {
    "name": "ipython",
    "version": 3
   },
   "file_extension": ".py",
   "mimetype": "text/x-python",
   "name": "python",
   "nbconvert_exporter": "python",
   "pygments_lexer": "ipython3",
   "version": "3.13.0"
  }
 },
 "nbformat": 4,
 "nbformat_minor": 5
}
